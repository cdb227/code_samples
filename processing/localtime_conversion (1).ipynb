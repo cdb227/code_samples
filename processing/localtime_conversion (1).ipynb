{
 "cells": [
  {
   "cell_type": "markdown",
   "id": "c5ca4dc5",
   "metadata": {},
   "source": [
    "### Sometimes we're interested in accessing reanalysis data relative to its local time as opposed to UTC (the grid it's usually produced on). For example, CloudSat-CALIPSO observations occur at 1:30 AM & 1:30 PM local time for scenes. Say we want to co-locate these observations with models or understand how this local time sampling may affect the PDFs of a variable's distribution. We must convert reanalysis data into local-time space. This essentially involves cutting and pasting grids together as a function longituide at different model reanalysis time. Luckily we can do this pretty efficientlly with xarray."
   ]
  },
  {
   "cell_type": "code",
   "execution_count": null,
   "id": "05be5ea4",
   "metadata": {},
   "outputs": [],
   "source": [
    "from matplotlib import pyplot as plt\n",
    "import numpy as np\n",
    "import xarray as xr\n",
    "import glob\n",
    "import cartopy\n",
    "import cartopy.crs as ccrs\n",
    "import matplotlib.colors as mplc\n",
    "import matplotlib.patches as mpatches\n",
    "import datetime\n",
    "\n",
    "def moving_average(a, n=2) :\n",
    "    ret = np.cumsum(a, dtype=float)\n",
    "    ret[n:] = ret[n:] - ret[:-n]\n",
    "    return ret[n - 1:] / n\n",
    "\n",
    "h2s = 1/3600. #hours to seconds conversion"
   ]
  },
  {
   "cell_type": "code",
   "execution_count": null,
   "id": "14290d8c",
   "metadata": {},
   "outputs": [],
   "source": [
    "#point towards data path\n",
    "path = '/boltzmann/data1/Reanalyses/ERA5/polar_hourly/*ARC*'\n",
    "files = np.sort(glob.glob(path))\n",
    "\n",
    "#open ERA5 data\n",
    "ds = xr.open_mfdataset(files)\n",
    "ds = ds.reindex(latitude=ds.latitude[::-1]).sel(latitude=slice(60,82)) #reverse order of latitude and take NH polar slice\n",
    "\n",
    "#access longwave flux towards surface\n",
    "ds['flds'] = ds['strd'] / h2s #convert accumulated value to instantaneous\n",
    "flds = ds.flds"
   ]
  },
  {
   "cell_type": "code",
   "execution_count": null,
   "id": "09a997fe",
   "metadata": {},
   "outputs": [],
   "source": [
    "# Define the longitude-based time offset--\n",
    "# Since the Earth rotates 360 degrees in 24 hours, each hour corresponds to 15 degrees of longitude\n",
    "# Therefore, we divide each longitude value by 15 to convert it from degrees to hours,\n",
    "# representing the time offset from the Prime Meridian. For example, \n",
    "# longitude of   90 E corresponds to 6 hours  ahead the PM (UTC+6)\n",
    "# longitude of -120 E corresponds to 8 hours behind the PM (UTC-8)\n",
    "time_offset = (ds['longitude'] / 15 * h2s).astype(\"timedelta64[s]\")\n",
    "\n",
    "# Calculate local time\n",
    "local_time = ds['time'] + time_offset\n",
    "\n",
    "# Round local time to the nearest hour\n",
    "local_time_rounded = local_time.dt.round('H')\n",
    "\n",
    "# Mask to select specific hours (1 AM and 1 PM), this aligns with CS-C sampling times\n",
    "time_mask = ((local_time_rounded.dt.hour == 1) | (local_time_rounded.dt.hour == 13))\n",
    "\n",
    "# Select data based on the mask\n",
    "flds_sub = flds.where(time_mask)"
   ]
  },
  {
   "cell_type": "code",
   "execution_count": null,
   "id": "fc2f5a7d",
   "metadata": {},
   "outputs": [],
   "source": []
  }
 ],
 "metadata": {
  "kernelspec": {
   "display_name": "Python 3 (ipykernel)",
   "language": "python",
   "name": "python3"
  },
  "language_info": {
   "codemirror_mode": {
    "name": "ipython",
    "version": 3
   },
   "file_extension": ".py",
   "mimetype": "text/x-python",
   "name": "python",
   "nbconvert_exporter": "python",
   "pygments_lexer": "ipython3",
   "version": "3.10.2"
  }
 },
 "nbformat": 4,
 "nbformat_minor": 5
}
